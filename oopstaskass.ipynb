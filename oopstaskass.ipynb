{
 "cells": [
  {
   "cell_type": "markdown",
   "id": "88c13e33-4f79-41b3-a6fe-a60874bc3b8c",
   "metadata": {},
   "source": [
    "Q1, Create a vehicle class with an init method having instance variables as name_of_vehicle, max_speed\n",
    "and average_of_vehicle."
   ]
  },
  {
   "cell_type": "code",
   "execution_count": 1,
   "id": "5224c002-9871-4fec-8966-10e83f254d92",
   "metadata": {},
   "outputs": [],
   "source": [
    "class vehicle:\n",
    "    \n",
    "    def __init__(self, name_of_vehicle, max_speed, average_of_vehicle):\n",
    "        self.name_of_vehicle = name_of_vehicle\n",
    "        self.max_speed = max_speed\n",
    "        self.average_of_vehicle = average_of_vehicle"
   ]
  },
  {
   "cell_type": "markdown",
   "id": "811a9fc2-6ad8-4092-b80d-ff2a28541f2e",
   "metadata": {},
   "source": [
    "Q2. Create a child class car from the vehicle class created in Que 1, which will inherit the vehicle class.\n",
    "Create a method named seating_capacity which takes capacity as an argument and returns the name of\n",
    "the vehicle and its seating capacity."
   ]
  },
  {
   "cell_type": "code",
   "execution_count": 15,
   "id": "b27a6192-2e11-4052-aafe-2ac5e8a3ec26",
   "metadata": {},
   "outputs": [],
   "source": [
    "class car(vehicle):\n",
    "    \n",
    "    def seating_capacity(self, capacity):\n",
    "        return self.name_of_vehicle , capacity\n",
    "        "
   ]
  },
  {
   "cell_type": "code",
   "execution_count": 16,
   "id": "3b263c4c-b77a-4518-ac63-02dbe1a5ae99",
   "metadata": {},
   "outputs": [],
   "source": [
    "cars = car(\"Truck\",70,15)"
   ]
  },
  {
   "cell_type": "code",
   "execution_count": 17,
   "id": "b2636444-06f8-4a2e-9c09-8fa68246b232",
   "metadata": {},
   "outputs": [
    {
     "data": {
      "text/plain": [
       "('Truck', 15)"
      ]
     },
     "execution_count": 17,
     "metadata": {},
     "output_type": "execute_result"
    }
   ],
   "source": [
    "cars.seating_capacity(15)"
   ]
  },
  {
   "cell_type": "markdown",
   "id": "2e2b26c9-a965-4512-a240-24eaa75e434c",
   "metadata": {},
   "source": [
    "Q3. What is multiple inheritance? Write a python code to demonstrate multiple inheritance."
   ]
  },
  {
   "cell_type": "markdown",
   "id": "11e2ac3d-a815-4a99-81e0-708863d65157",
   "metadata": {},
   "source": [
    "Ans - Multiple inheritence is when two or more parent classes are inherited by a single child class. For example : "
   ]
  },
  {
   "cell_type": "code",
   "execution_count": 21,
   "id": "e401fc3a-5789-4e7d-9fc9-480d3babf307",
   "metadata": {},
   "outputs": [],
   "source": [
    "class parent1:\n",
    "    \n",
    "    def parent1_name(self):\n",
    "        return \"Hi I am parent1\""
   ]
  },
  {
   "cell_type": "code",
   "execution_count": 22,
   "id": "003bfd90-96d1-4033-971c-8cc89959f84e",
   "metadata": {},
   "outputs": [],
   "source": [
    "class parent2:\n",
    "    \n",
    "    def parent2_name(self):\n",
    "        return \"Hi I am parent2\""
   ]
  },
  {
   "cell_type": "code",
   "execution_count": 23,
   "id": "8db939b9-a06c-42a8-ae19-461d27020d19",
   "metadata": {},
   "outputs": [],
   "source": [
    "class child(parent1, parent2):\n",
    "    \n",
    "    def child_(self):\n",
    "        pass"
   ]
  },
  {
   "cell_type": "code",
   "execution_count": 24,
   "id": "34c7354b-cbb5-4edf-843d-9e9f840441d6",
   "metadata": {},
   "outputs": [],
   "source": [
    "c = child()"
   ]
  },
  {
   "cell_type": "code",
   "execution_count": 26,
   "id": "fa55f970-5be9-4155-92d7-218ae2b828f0",
   "metadata": {},
   "outputs": [
    {
     "data": {
      "text/plain": [
       "'Hi I am parent1'"
      ]
     },
     "execution_count": 26,
     "metadata": {},
     "output_type": "execute_result"
    }
   ],
   "source": [
    "c.parent1_name()"
   ]
  },
  {
   "cell_type": "code",
   "execution_count": 27,
   "id": "6f9a2017-9f2d-421c-8104-f48d2d884f88",
   "metadata": {},
   "outputs": [
    {
     "data": {
      "text/plain": [
       "'Hi I am parent2'"
      ]
     },
     "execution_count": 27,
     "metadata": {},
     "output_type": "execute_result"
    }
   ],
   "source": [
    "c.parent2_name()"
   ]
  },
  {
   "cell_type": "markdown",
   "id": "770c8955-451e-4175-859c-dc52af2f6f93",
   "metadata": {},
   "source": [
    "Q4. What are getter and setter in python? Create a class and create a getter and a setter method in this\n",
    "class."
   ]
  },
  {
   "cell_type": "markdown",
   "id": "80591113-cfb5-4fc8-89d2-1af69434401d",
   "metadata": {},
   "source": [
    "Ans : Getters and setters are methods used to access and modify the attributes of a class."
   ]
  },
  {
   "cell_type": "code",
   "execution_count": 29,
   "id": "4838371a-076b-4781-a1de-84ade3095407",
   "metadata": {},
   "outputs": [],
   "source": [
    "class vehicles:\n",
    "    \n",
    "    def __init__(self, company, model):\n",
    "        self.company = company\n",
    "        self.model = model\n",
    "    \n",
    "    def get_model(self):\n",
    "        return self.model\n",
    "    \n",
    "    def set_model(self, model):\n",
    "        self.model = model"
   ]
  },
  {
   "cell_type": "code",
   "execution_count": 30,
   "id": "ad7266f5-8ed3-4914-bf33-ede9faa784b0",
   "metadata": {},
   "outputs": [],
   "source": [
    "v = vehicles(\"Toyota\", \"Glanza\")"
   ]
  },
  {
   "cell_type": "code",
   "execution_count": 31,
   "id": "dd51c69f-7223-497e-8f68-11901af09340",
   "metadata": {},
   "outputs": [
    {
     "data": {
      "text/plain": [
       "'Glanza'"
      ]
     },
     "execution_count": 31,
     "metadata": {},
     "output_type": "execute_result"
    }
   ],
   "source": [
    "v.get_model()"
   ]
  },
  {
   "cell_type": "code",
   "execution_count": 33,
   "id": "a8c229df-e1ec-4ce9-a099-ca8e1733a4d1",
   "metadata": {},
   "outputs": [],
   "source": [
    "v.set_model = \"Urban Cruiser\" "
   ]
  },
  {
   "cell_type": "markdown",
   "id": "dc2420a9-8903-4145-aeb9-f4140de3f47a",
   "metadata": {},
   "source": [
    "Q5.What is method overriding in python? Write a python code to demonstrate method overriding."
   ]
  },
  {
   "cell_type": "markdown",
   "id": "0d1939c1-825b-4d52-b230-c6a6f2b467a7",
   "metadata": {},
   "source": [
    "Ans - Method overriding is a concept in oops programming where a subclass provides a different implementation \n",
    "of a method that is already defined in its superclass. "
   ]
  },
  {
   "cell_type": "code",
   "execution_count": 35,
   "id": "695fdc32-eb86-4448-9873-161f8ddffc2d",
   "metadata": {},
   "outputs": [],
   "source": [
    "class parent:\n",
    "     \n",
    "        def area(self):\n",
    "            return \"Calculating the area...\""
   ]
  },
  {
   "cell_type": "code",
   "execution_count": 36,
   "id": "7028c014-491b-4c08-ade6-70fc13988721",
   "metadata": {},
   "outputs": [],
   "source": [
    "class child(parent):\n",
    "    \n",
    "    def area(self):\n",
    "        return \"Area of a square is (side * side)\""
   ]
  },
  {
   "cell_type": "code",
   "execution_count": 37,
   "id": "eaa3ff35-c178-40ba-928a-7a00bc5e1f0b",
   "metadata": {},
   "outputs": [],
   "source": [
    "c = child()"
   ]
  },
  {
   "cell_type": "code",
   "execution_count": 38,
   "id": "5015d417-1e7d-4496-868a-1c1c7667b59b",
   "metadata": {},
   "outputs": [
    {
     "data": {
      "text/plain": [
       "'Area of a square is (side * side)'"
      ]
     },
     "execution_count": 38,
     "metadata": {},
     "output_type": "execute_result"
    }
   ],
   "source": [
    "c.area()"
   ]
  },
  {
   "cell_type": "code",
   "execution_count": null,
   "id": "f1646791-4f83-4fee-a428-bbf95d0894a8",
   "metadata": {},
   "outputs": [],
   "source": []
  }
 ],
 "metadata": {
  "kernelspec": {
   "display_name": "Python 3 (ipykernel)",
   "language": "python",
   "name": "python3"
  },
  "language_info": {
   "codemirror_mode": {
    "name": "ipython",
    "version": 3
   },
   "file_extension": ".py",
   "mimetype": "text/x-python",
   "name": "python",
   "nbconvert_exporter": "python",
   "pygments_lexer": "ipython3",
   "version": "3.10.8"
  }
 },
 "nbformat": 4,
 "nbformat_minor": 5
}
